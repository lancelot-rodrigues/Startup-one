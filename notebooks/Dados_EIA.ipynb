{
  "nbformat": 4,
  "nbformat_minor": 0,
  "metadata": {
    "colab": {
      "provenance": []
    },
    "kernelspec": {
      "name": "python3",
      "display_name": "Python 3"
    },
    "language_info": {
      "name": "python"
    }
  },
  "cells": [
    {
      "cell_type": "code",
      "source": [
        "import polars as pl # análogo ao pandas - para manipulação de dados\n",
        "import requests #para acessar a API"
      ],
      "metadata": {
        "id": "rjcoHuFgN2ke"
      },
      "execution_count": null,
      "outputs": []
    },
    {
      "cell_type": "code",
      "execution_count": null,
      "metadata": {
        "id": "dx8Fo0c5Nb9p"
      },
      "outputs": [],
      "source": [
        "#chaves de acessos sites\n",
        "TOMORROW_API_KEY = \"kd89fhSM3OZQO2WByYaZwYprtuHEqMUI\"\n",
        "EAI_API_KEY      = \"ZY9uLnyuz9SpVQ3S7b8FKhKrOWfRamu5abaISqug\""
      ]
    },
    {
      "cell_type": "markdown",
      "source": [
        "# EIA - Consumo de energia horária"
      ],
      "metadata": {
        "id": "9D0gv6xbPWVE"
      }
    },
    {
      "cell_type": "code",
      "source": [
        "EAI_API_URL = \"https://api.eia.gov/v2/electricity/rto/region-data/data/\"\n",
        "\n",
        "eia_params = {\n",
        "    \"api_key\": EAI_API_KEY,\n",
        "    \"frequency\": \"hourly\",\n",
        "    \"data[0]\" : \"value\",\n",
        "    \"facets[type][]\": [\"D\", \"DF\"],\n",
        "    \"facets[respondent][]\" : \"LDWP\",\n",
        "    \"start\": \"2025-02-03T00\",\n",
        "    \"end\": \"2025-02-04T00\",\n",
        "    \"offset\": 0,\n",
        "    \"length\": 5000\n",
        "}"
      ],
      "metadata": {
        "id": "ly-r0nGaN2Fv"
      },
      "execution_count": null,
      "outputs": []
    },
    {
      "cell_type": "code",
      "source": [
        "response = requests.get(EAI_API_URL, params=eia_params)"
      ],
      "metadata": {
        "id": "jfkebmaTPc3C"
      },
      "execution_count": null,
      "outputs": []
    },
    {
      "cell_type": "code",
      "source": [
        "# converter para json o objeto response\n",
        "response_json = response.json()\n",
        "\n",
        "# pega os dados\n",
        "data = response_json[\"response\"][\"data\"]"
      ],
      "metadata": {
        "id": "vYTe-7HcPjuF"
      },
      "execution_count": null,
      "outputs": []
    },
    {
      "cell_type": "code",
      "source": [
        "# cria o dataframe a partir dos dados\n",
        "eia_df = pl.DataFrame(data)"
      ],
      "metadata": {
        "id": "uUqocV8rPxo-"
      },
      "execution_count": null,
      "outputs": []
    },
    {
      "cell_type": "code",
      "source": [
        "eia_df.head()"
      ],
      "metadata": {
        "colab": {
          "base_uri": "https://localhost:8080/",
          "height": 255
        },
        "id": "KYUx29r7Px6a",
        "outputId": "fa2f4675-ab2a-422e-e2a2-0e98fd3a7fed"
      },
      "execution_count": null,
      "outputs": [
        {
          "output_type": "execute_result",
          "data": {
            "text/plain": [
              "shape: (5, 7)\n",
              "┌───────────────┬────────────┬───────────────────┬──────┬──────────────────┬───────┬───────────────┐\n",
              "│ period        ┆ respondent ┆ respondent-name   ┆ type ┆ type-name        ┆ value ┆ value-units   │\n",
              "│ ---           ┆ ---        ┆ ---               ┆ ---  ┆ ---              ┆ ---   ┆ ---           │\n",
              "│ str           ┆ str        ┆ str               ┆ str  ┆ str              ┆ str   ┆ str           │\n",
              "╞═══════════════╪════════════╪═══════════════════╪══════╪══════════════════╪═══════╪═══════════════╡\n",
              "│ 2025-02-04T00 ┆ LDWP       ┆ Los Angeles       ┆ D    ┆ Demand           ┆ 2584  ┆ megawatthours │\n",
              "│               ┆            ┆ Department of     ┆      ┆                  ┆       ┆               │\n",
              "│               ┆            ┆ Wate…             ┆      ┆                  ┆       ┆               │\n",
              "│ 2025-02-04T00 ┆ LDWP       ┆ Los Angeles       ┆ DF   ┆ Day-ahead demand ┆ 2625  ┆ megawatthours │\n",
              "│               ┆            ┆ Department of     ┆      ┆ forecast         ┆       ┆               │\n",
              "│               ┆            ┆ Wate…             ┆      ┆                  ┆       ┆               │\n",
              "│ 2025-02-03T23 ┆ LDWP       ┆ Los Angeles       ┆ D    ┆ Demand           ┆ 2288  ┆ megawatthours │\n",
              "│               ┆            ┆ Department of     ┆      ┆                  ┆       ┆               │\n",
              "│               ┆            ┆ Wate…             ┆      ┆                  ┆       ┆               │\n",
              "│ 2025-02-03T23 ┆ LDWP       ┆ Los Angeles       ┆ DF   ┆ Day-ahead demand ┆ 2575  ┆ megawatthours │\n",
              "│               ┆            ┆ Department of     ┆      ┆ forecast         ┆       ┆               │\n",
              "│               ┆            ┆ Wate…             ┆      ┆                  ┆       ┆               │\n",
              "│ 2025-02-03T22 ┆ LDWP       ┆ Los Angeles       ┆ D    ┆ Demand           ┆ 2321  ┆ megawatthours │\n",
              "│               ┆            ┆ Department of     ┆      ┆                  ┆       ┆               │\n",
              "│               ┆            ┆ Wate…             ┆      ┆                  ┆       ┆               │\n",
              "└───────────────┴────────────┴───────────────────┴──────┴──────────────────┴───────┴───────────────┘"
            ],
            "text/html": [
              "<div><style>\n",
              ".dataframe > thead > tr,\n",
              ".dataframe > tbody > tr {\n",
              "  text-align: right;\n",
              "  white-space: pre-wrap;\n",
              "}\n",
              "</style>\n",
              "<small>shape: (5, 7)</small><table border=\"1\" class=\"dataframe\"><thead><tr><th>period</th><th>respondent</th><th>respondent-name</th><th>type</th><th>type-name</th><th>value</th><th>value-units</th></tr><tr><td>str</td><td>str</td><td>str</td><td>str</td><td>str</td><td>str</td><td>str</td></tr></thead><tbody><tr><td>&quot;2025-02-04T00&quot;</td><td>&quot;LDWP&quot;</td><td>&quot;Los Angeles Department of Wate…</td><td>&quot;D&quot;</td><td>&quot;Demand&quot;</td><td>&quot;2584&quot;</td><td>&quot;megawatthours&quot;</td></tr><tr><td>&quot;2025-02-04T00&quot;</td><td>&quot;LDWP&quot;</td><td>&quot;Los Angeles Department of Wate…</td><td>&quot;DF&quot;</td><td>&quot;Day-ahead demand forecast&quot;</td><td>&quot;2625&quot;</td><td>&quot;megawatthours&quot;</td></tr><tr><td>&quot;2025-02-03T23&quot;</td><td>&quot;LDWP&quot;</td><td>&quot;Los Angeles Department of Wate…</td><td>&quot;D&quot;</td><td>&quot;Demand&quot;</td><td>&quot;2288&quot;</td><td>&quot;megawatthours&quot;</td></tr><tr><td>&quot;2025-02-03T23&quot;</td><td>&quot;LDWP&quot;</td><td>&quot;Los Angeles Department of Wate…</td><td>&quot;DF&quot;</td><td>&quot;Day-ahead demand forecast&quot;</td><td>&quot;2575&quot;</td><td>&quot;megawatthours&quot;</td></tr><tr><td>&quot;2025-02-03T22&quot;</td><td>&quot;LDWP&quot;</td><td>&quot;Los Angeles Department of Wate…</td><td>&quot;D&quot;</td><td>&quot;Demand&quot;</td><td>&quot;2321&quot;</td><td>&quot;megawatthours&quot;</td></tr></tbody></table></div>"
            ]
          },
          "metadata": {},
          "execution_count": 86
        }
      ]
    },
    {
      "cell_type": "code",
      "source": [
        "# converte os valores de string para int\n",
        "eia_df = eia_df.with_columns(\n",
        "    pl.col(\"value\").str.to_integer().alias(\"value\")\n",
        ")"
      ],
      "metadata": {
        "id": "p-W4tZaqP8RO"
      },
      "execution_count": null,
      "outputs": []
    },
    {
      "cell_type": "code",
      "source": [
        "# somente dados da demanda\n",
        "demand_df = eia_df.filter(pl.col(\"type-name\") == \"Demand\").sort(\"period\", descending=False)\n",
        "\n",
        "# previsao oficial da demanda\n",
        "forecast_df = eia_df.filter(pl.col(\"type-name\") == \"Day-ahead demand forecast\").sort(\"period\", descending=False)"
      ],
      "metadata": {
        "id": "_pF-yGsbVHWC"
      },
      "execution_count": null,
      "outputs": []
    },
    {
      "cell_type": "code",
      "source": [
        "demand_df.head()"
      ],
      "metadata": {
        "colab": {
          "base_uri": "https://localhost:8080/",
          "height": 255
        },
        "id": "OruVskHrVIqK",
        "outputId": "3c36ef43-2300-4c1d-9d7f-4791ac38c92c"
      },
      "execution_count": null,
      "outputs": [
        {
          "output_type": "execute_result",
          "data": {
            "text/plain": [
              "shape: (5, 7)\n",
              "┌───────────────┬────────────┬──────────────────────────┬──────┬───────────┬───────┬───────────────┐\n",
              "│ period        ┆ respondent ┆ respondent-name          ┆ type ┆ type-name ┆ value ┆ value-units   │\n",
              "│ ---           ┆ ---        ┆ ---                      ┆ ---  ┆ ---       ┆ ---   ┆ ---           │\n",
              "│ str           ┆ str        ┆ str                      ┆ str  ┆ str       ┆ i64   ┆ str           │\n",
              "╞═══════════════╪════════════╪══════════════════════════╪══════╪═══════════╪═══════╪═══════════════╡\n",
              "│ 2025-02-03T00 ┆ LDWP       ┆ Los Angeles Department   ┆ D    ┆ Demand    ┆ 2650  ┆ megawatthours │\n",
              "│               ┆            ┆ of Wate…                 ┆      ┆           ┆       ┆               │\n",
              "│ 2025-02-03T01 ┆ LDWP       ┆ Los Angeles Department   ┆ D    ┆ Demand    ┆ 2739  ┆ megawatthours │\n",
              "│               ┆            ┆ of Wate…                 ┆      ┆           ┆       ┆               │\n",
              "│ 2025-02-03T02 ┆ LDWP       ┆ Los Angeles Department   ┆ D    ┆ Demand    ┆ 2875  ┆ megawatthours │\n",
              "│               ┆            ┆ of Wate…                 ┆      ┆           ┆       ┆               │\n",
              "│ 2025-02-03T03 ┆ LDWP       ┆ Los Angeles Department   ┆ D    ┆ Demand    ┆ 2939  ┆ megawatthours │\n",
              "│               ┆            ┆ of Wate…                 ┆      ┆           ┆       ┆               │\n",
              "│ 2025-02-03T04 ┆ LDWP       ┆ Los Angeles Department   ┆ D    ┆ Demand    ┆ 2836  ┆ megawatthours │\n",
              "│               ┆            ┆ of Wate…                 ┆      ┆           ┆       ┆               │\n",
              "└───────────────┴────────────┴──────────────────────────┴──────┴───────────┴───────┴───────────────┘"
            ],
            "text/html": [
              "<div><style>\n",
              ".dataframe > thead > tr,\n",
              ".dataframe > tbody > tr {\n",
              "  text-align: right;\n",
              "  white-space: pre-wrap;\n",
              "}\n",
              "</style>\n",
              "<small>shape: (5, 7)</small><table border=\"1\" class=\"dataframe\"><thead><tr><th>period</th><th>respondent</th><th>respondent-name</th><th>type</th><th>type-name</th><th>value</th><th>value-units</th></tr><tr><td>str</td><td>str</td><td>str</td><td>str</td><td>str</td><td>i64</td><td>str</td></tr></thead><tbody><tr><td>&quot;2025-02-03T00&quot;</td><td>&quot;LDWP&quot;</td><td>&quot;Los Angeles Department of Wate…</td><td>&quot;D&quot;</td><td>&quot;Demand&quot;</td><td>2650</td><td>&quot;megawatthours&quot;</td></tr><tr><td>&quot;2025-02-03T01&quot;</td><td>&quot;LDWP&quot;</td><td>&quot;Los Angeles Department of Wate…</td><td>&quot;D&quot;</td><td>&quot;Demand&quot;</td><td>2739</td><td>&quot;megawatthours&quot;</td></tr><tr><td>&quot;2025-02-03T02&quot;</td><td>&quot;LDWP&quot;</td><td>&quot;Los Angeles Department of Wate…</td><td>&quot;D&quot;</td><td>&quot;Demand&quot;</td><td>2875</td><td>&quot;megawatthours&quot;</td></tr><tr><td>&quot;2025-02-03T03&quot;</td><td>&quot;LDWP&quot;</td><td>&quot;Los Angeles Department of Wate…</td><td>&quot;D&quot;</td><td>&quot;Demand&quot;</td><td>2939</td><td>&quot;megawatthours&quot;</td></tr><tr><td>&quot;2025-02-03T04&quot;</td><td>&quot;LDWP&quot;</td><td>&quot;Los Angeles Department of Wate…</td><td>&quot;D&quot;</td><td>&quot;Demand&quot;</td><td>2836</td><td>&quot;megawatthours&quot;</td></tr></tbody></table></div>"
            ]
          },
          "metadata": {},
          "execution_count": 97
        }
      ]
    },
    {
      "cell_type": "code",
      "source": [
        "forecast_df.head()"
      ],
      "metadata": {
        "colab": {
          "base_uri": "https://localhost:8080/",
          "height": 255
        },
        "id": "IXrmkkbAVgd1",
        "outputId": "c43efecd-d9c6-4be2-cb74-7d7b199e9b34"
      },
      "execution_count": null,
      "outputs": [
        {
          "output_type": "execute_result",
          "data": {
            "text/plain": [
              "shape: (5, 7)\n",
              "┌───────────────┬────────────┬───────────────────┬──────┬──────────────────┬───────┬───────────────┐\n",
              "│ period        ┆ respondent ┆ respondent-name   ┆ type ┆ type-name        ┆ value ┆ value-units   │\n",
              "│ ---           ┆ ---        ┆ ---               ┆ ---  ┆ ---              ┆ ---   ┆ ---           │\n",
              "│ str           ┆ str        ┆ str               ┆ str  ┆ str              ┆ i64   ┆ str           │\n",
              "╞═══════════════╪════════════╪═══════════════════╪══════╪══════════════════╪═══════╪═══════════════╡\n",
              "│ 2025-02-03T00 ┆ LDWP       ┆ Los Angeles       ┆ DF   ┆ Day-ahead demand ┆ 2191  ┆ megawatthours │\n",
              "│               ┆            ┆ Department of     ┆      ┆ forecast         ┆       ┆               │\n",
              "│               ┆            ┆ Wate…             ┆      ┆                  ┆       ┆               │\n",
              "│ 2025-02-03T01 ┆ LDWP       ┆ Los Angeles       ┆ DF   ┆ Day-ahead demand ┆ 2314  ┆ megawatthours │\n",
              "│               ┆            ┆ Department of     ┆      ┆ forecast         ┆       ┆               │\n",
              "│               ┆            ┆ Wate…             ┆      ┆                  ┆       ┆               │\n",
              "│ 2025-02-03T02 ┆ LDWP       ┆ Los Angeles       ┆ DF   ┆ Day-ahead demand ┆ 2497  ┆ megawatthours │\n",
              "│               ┆            ┆ Department of     ┆      ┆ forecast         ┆       ┆               │\n",
              "│               ┆            ┆ Wate…             ┆      ┆                  ┆       ┆               │\n",
              "│ 2025-02-03T03 ┆ LDWP       ┆ Los Angeles       ┆ DF   ┆ Day-ahead demand ┆ 2637  ┆ megawatthours │\n",
              "│               ┆            ┆ Department of     ┆      ┆ forecast         ┆       ┆               │\n",
              "│               ┆            ┆ Wate…             ┆      ┆                  ┆       ┆               │\n",
              "│ 2025-02-03T04 ┆ LDWP       ┆ Los Angeles       ┆ DF   ┆ Day-ahead demand ┆ 2653  ┆ megawatthours │\n",
              "│               ┆            ┆ Department of     ┆      ┆ forecast         ┆       ┆               │\n",
              "│               ┆            ┆ Wate…             ┆      ┆                  ┆       ┆               │\n",
              "└───────────────┴────────────┴───────────────────┴──────┴──────────────────┴───────┴───────────────┘"
            ],
            "text/html": [
              "<div><style>\n",
              ".dataframe > thead > tr,\n",
              ".dataframe > tbody > tr {\n",
              "  text-align: right;\n",
              "  white-space: pre-wrap;\n",
              "}\n",
              "</style>\n",
              "<small>shape: (5, 7)</small><table border=\"1\" class=\"dataframe\"><thead><tr><th>period</th><th>respondent</th><th>respondent-name</th><th>type</th><th>type-name</th><th>value</th><th>value-units</th></tr><tr><td>str</td><td>str</td><td>str</td><td>str</td><td>str</td><td>i64</td><td>str</td></tr></thead><tbody><tr><td>&quot;2025-02-03T00&quot;</td><td>&quot;LDWP&quot;</td><td>&quot;Los Angeles Department of Wate…</td><td>&quot;DF&quot;</td><td>&quot;Day-ahead demand forecast&quot;</td><td>2191</td><td>&quot;megawatthours&quot;</td></tr><tr><td>&quot;2025-02-03T01&quot;</td><td>&quot;LDWP&quot;</td><td>&quot;Los Angeles Department of Wate…</td><td>&quot;DF&quot;</td><td>&quot;Day-ahead demand forecast&quot;</td><td>2314</td><td>&quot;megawatthours&quot;</td></tr><tr><td>&quot;2025-02-03T02&quot;</td><td>&quot;LDWP&quot;</td><td>&quot;Los Angeles Department of Wate…</td><td>&quot;DF&quot;</td><td>&quot;Day-ahead demand forecast&quot;</td><td>2497</td><td>&quot;megawatthours&quot;</td></tr><tr><td>&quot;2025-02-03T03&quot;</td><td>&quot;LDWP&quot;</td><td>&quot;Los Angeles Department of Wate…</td><td>&quot;DF&quot;</td><td>&quot;Day-ahead demand forecast&quot;</td><td>2637</td><td>&quot;megawatthours&quot;</td></tr><tr><td>&quot;2025-02-03T04&quot;</td><td>&quot;LDWP&quot;</td><td>&quot;Los Angeles Department of Wate…</td><td>&quot;DF&quot;</td><td>&quot;Day-ahead demand forecast&quot;</td><td>2653</td><td>&quot;megawatthours&quot;</td></tr></tbody></table></div>"
            ]
          },
          "metadata": {},
          "execution_count": 98
        }
      ]
    },
    {
      "cell_type": "code",
      "source": [],
      "metadata": {
        "id": "BRJHooyWXLp-"
      },
      "execution_count": null,
      "outputs": []
    }
  ]
}